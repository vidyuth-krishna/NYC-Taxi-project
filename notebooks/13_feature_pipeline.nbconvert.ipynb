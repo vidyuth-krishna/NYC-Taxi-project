{
 "cells": [
  {
   "cell_type": "code",
   "execution_count": 1,
   "id": "4aba119e-8624-4c30-ad3c-49759f3f18d4",
   "metadata": {
    "execution": {
     "iopub.execute_input": "2025-02-06T12:54:01.311172Z",
     "iopub.status.busy": "2025-02-06T12:54:01.311172Z",
     "iopub.status.idle": "2025-02-06T12:54:01.337991Z",
     "shell.execute_reply": "2025-02-06T12:54:01.337991Z"
    }
   },
   "outputs": [],
   "source": [
    "import sys\n",
    "import os\n",
    "\n",
    "# Add the parent directory to the Python path\n",
    "sys.path.append(os.path.abspath(os.path.join(os.getcwd(), \"..\")))\n",
    "import src.config as config"
   ]
  },
  {
   "cell_type": "code",
   "execution_count": 2,
   "id": "d70f3626-766c-430f-97d9-ee5c9068c240",
   "metadata": {
    "execution": {
     "iopub.execute_input": "2025-02-06T12:54:01.337991Z",
     "iopub.status.busy": "2025-02-06T12:54:01.337991Z",
     "iopub.status.idle": "2025-02-06T12:54:01.927454Z",
     "shell.execute_reply": "2025-02-06T12:54:01.927454Z"
    }
   },
   "outputs": [
    {
     "name": "stdout",
     "output_type": "stream",
     "text": [
      "2025-02-06 12:00:00\n"
     ]
    }
   ],
   "source": [
    "from datetime import datetime, timedelta\n",
    "\n",
    "import pandas as pd\n",
    "\n",
    "current_date = pd.to_datetime(datetime.utcnow()).floor('h')\n",
    "print(f\"{current_date}\")"
   ]
  },
  {
   "cell_type": "code",
   "execution_count": 3,
   "id": "0a9eb28f-e6ea-44e6-aa60-05d8304691fc",
   "metadata": {
    "execution": {
     "iopub.execute_input": "2025-02-06T12:54:01.927454Z",
     "iopub.status.busy": "2025-02-06T12:54:01.927454Z",
     "iopub.status.idle": "2025-02-06T12:54:01.932961Z",
     "shell.execute_reply": "2025-02-06T12:54:01.932961Z"
    }
   },
   "outputs": [],
   "source": [
    "fetch_data_to = current_date\n",
    "fetch_data_from = current_date - timedelta(days=28)"
   ]
  },
  {
   "cell_type": "code",
   "execution_count": 4,
   "id": "133fcfda-af02-43f0-8851-63ef10b778ba",
   "metadata": {
    "execution": {
     "iopub.execute_input": "2025-02-06T12:54:01.932961Z",
     "iopub.status.busy": "2025-02-06T12:54:01.932961Z",
     "iopub.status.idle": "2025-02-06T12:54:01.943467Z",
     "shell.execute_reply": "2025-02-06T12:54:01.943467Z"
    }
   },
   "outputs": [
    {
     "data": {
      "text/plain": [
       "Timestamp('2025-02-06 12:00:00')"
      ]
     },
     "execution_count": 4,
     "metadata": {},
     "output_type": "execute_result"
    }
   ],
   "source": [
    "fetch_data_to"
   ]
  },
  {
   "cell_type": "code",
   "execution_count": 5,
   "id": "ec2f9e79-58b1-4e18-9346-c93fc04e1f7c",
   "metadata": {
    "execution": {
     "iopub.execute_input": "2025-02-06T12:54:01.943467Z",
     "iopub.status.busy": "2025-02-06T12:54:01.943467Z",
     "iopub.status.idle": "2025-02-06T12:54:01.951614Z",
     "shell.execute_reply": "2025-02-06T12:54:01.951614Z"
    }
   },
   "outputs": [
    {
     "data": {
      "text/plain": [
       "Timestamp('2025-01-09 12:00:00')"
      ]
     },
     "execution_count": 5,
     "metadata": {},
     "output_type": "execute_result"
    }
   ],
   "source": [
    "fetch_data_from"
   ]
  },
  {
   "cell_type": "code",
   "execution_count": 6,
   "id": "dfaf545c-01d6-41dc-871d-c514c667bbce",
   "metadata": {
    "execution": {
     "iopub.execute_input": "2025-02-06T12:54:01.951614Z",
     "iopub.status.busy": "2025-02-06T12:54:01.951614Z",
     "iopub.status.idle": "2025-02-06T12:54:02.273132Z",
     "shell.execute_reply": "2025-02-06T12:54:02.273132Z"
    }
   },
   "outputs": [],
   "source": [
    "from datetime import datetime, timedelta\n",
    "from typing import Union\n",
    "import pandas as pd\n",
    "from src.data_utils import load_and_process_taxi_data\n",
    "\n",
    "def fetch_batch_raw_data(from_date: Union[datetime, str], to_date: Union[datetime, str]) -> pd.DataFrame:\n",
    "    \"\"\"\n",
    "    Simulate production data by sampling historical data from 52 weeks ago (i.e., 1 year).\n",
    "\n",
    "    Args:\n",
    "        from_date (datetime or str): The start date for the data batch.\n",
    "        to_date (datetime or str): The end date for the data batch.\n",
    "\n",
    "    Returns:\n",
    "        pd.DataFrame: A DataFrame containing the simulated production data.\n",
    "    \"\"\"\n",
    "    # Convert string inputs to datetime if necessary\n",
    "    if isinstance(from_date, str):\n",
    "        from_date = datetime.fromisoformat(from_date)\n",
    "    if isinstance(to_date, str):\n",
    "        to_date = datetime.fromisoformat(to_date)\n",
    "\n",
    "    # Validate input dates\n",
    "    if not isinstance(from_date, datetime) or not isinstance(to_date, datetime):\n",
    "        raise ValueError(\"Both 'from_date' and 'to_date' must be datetime objects or valid ISO format strings.\")\n",
    "    if from_date >= to_date:\n",
    "        raise ValueError(\"'from_date' must be earlier than 'to_date'.\")\n",
    "\n",
    "    # Shift dates back by 52 weeks (1 year)\n",
    "    historical_from_date = from_date - timedelta(weeks=52)\n",
    "    historical_to_date = to_date - timedelta(weeks=52)\n",
    "\n",
    "    # Load and filter data for the historical period\n",
    "    rides_from = load_and_process_taxi_data(year=historical_from_date.year, months=[historical_from_date.month])\n",
    "    rides_from = rides_from[rides_from.pickup_datetime >= historical_from_date]\n",
    "\n",
    "    rides_to = load_and_process_taxi_data(year=historical_to_date.year, months=[historical_to_date.month])\n",
    "    rides_to = rides_to[rides_to.pickup_datetime < historical_to_date]\n",
    "\n",
    "    # Combine the filtered data\n",
    "    rides = pd.concat([rides_from, rides_to], ignore_index=True)\n",
    "\n",
    "    # Shift the data forward by 52 weeks to simulate recent data\n",
    "    rides['pickup_datetime'] += timedelta(weeks=52)\n",
    "\n",
    "    # Sort the data for consistency\n",
    "    rides.sort_values(by=['pickup_location_id', 'pickup_datetime'], inplace=True)\n",
    "\n",
    "    return rides"
   ]
  },
  {
   "cell_type": "code",
   "execution_count": 7,
   "id": "4e1669d5-cc0b-440b-8e8d-8bb78d16c58c",
   "metadata": {
    "execution": {
     "iopub.execute_input": "2025-02-06T12:54:02.276781Z",
     "iopub.status.busy": "2025-02-06T12:54:02.276781Z",
     "iopub.status.idle": "2025-02-06T12:54:05.865813Z",
     "shell.execute_reply": "2025-02-06T12:54:05.865813Z"
    }
   },
   "outputs": [
    {
     "name": "stdout",
     "output_type": "stream",
     "text": [
      "File already exists for 2024-01.\n",
      "Loading data for 2024-01...\n"
     ]
    },
    {
     "name": "stdout",
     "output_type": "stream",
     "text": [
      "Total records: 2,964,624\n",
      "Valid records: 2,911,483\n",
      "Records dropped: 53,141 (1.79%)\n"
     ]
    },
    {
     "name": "stdout",
     "output_type": "stream",
     "text": [
      "Successfully processed data for 2024-01.\n",
      "Combining all monthly data...\n",
      "Data loading and processing complete!\n",
      "File already exists for 2024-02.\n",
      "Loading data for 2024-02...\n"
     ]
    },
    {
     "name": "stdout",
     "output_type": "stream",
     "text": [
      "Total records: 3,007,526\n",
      "Valid records: 2,954,709\n",
      "Records dropped: 52,817 (1.76%)\n"
     ]
    },
    {
     "name": "stdout",
     "output_type": "stream",
     "text": [
      "Successfully processed data for 2024-02.\n",
      "Combining all monthly data...\n",
      "Data loading and processing complete!\n"
     ]
    }
   ],
   "source": [
    "rides = fetch_batch_raw_data(fetch_data_from, fetch_data_to)"
   ]
  },
  {
   "cell_type": "code",
   "execution_count": 8,
   "id": "22176c04-e64c-496a-9acd-6a6eb7bc2ff0",
   "metadata": {
    "execution": {
     "iopub.execute_input": "2025-02-06T12:54:05.865813Z",
     "iopub.status.busy": "2025-02-06T12:54:05.865813Z",
     "iopub.status.idle": "2025-02-06T12:54:05.892257Z",
     "shell.execute_reply": "2025-02-06T12:54:05.892257Z"
    }
   },
   "outputs": [
    {
     "data": {
      "text/html": [
       "<div>\n",
       "<style scoped>\n",
       "    .dataframe tbody tr th:only-of-type {\n",
       "        vertical-align: middle;\n",
       "    }\n",
       "\n",
       "    .dataframe tbody tr th {\n",
       "        vertical-align: top;\n",
       "    }\n",
       "\n",
       "    .dataframe thead th {\n",
       "        text-align: right;\n",
       "    }\n",
       "</style>\n",
       "<table border=\"1\" class=\"dataframe\">\n",
       "  <thead>\n",
       "    <tr style=\"text-align: right;\">\n",
       "      <th></th>\n",
       "      <th>pickup_datetime</th>\n",
       "      <th>pickup_location_id</th>\n",
       "    </tr>\n",
       "  </thead>\n",
       "  <tbody>\n",
       "    <tr>\n",
       "      <th>9893</th>\n",
       "      <td>2025-01-09 13:09:55</td>\n",
       "      <td>3</td>\n",
       "    </tr>\n",
       "    <tr>\n",
       "      <th>76883</th>\n",
       "      <td>2025-01-10 04:38:43</td>\n",
       "      <td>3</td>\n",
       "    </tr>\n",
       "    <tr>\n",
       "      <th>77498</th>\n",
       "      <td>2025-01-10 05:34:12</td>\n",
       "      <td>3</td>\n",
       "    </tr>\n",
       "    <tr>\n",
       "      <th>78620</th>\n",
       "      <td>2025-01-10 06:37:19</td>\n",
       "      <td>3</td>\n",
       "    </tr>\n",
       "    <tr>\n",
       "      <th>84804</th>\n",
       "      <td>2025-01-10 08:40:24</td>\n",
       "      <td>3</td>\n",
       "    </tr>\n",
       "    <tr>\n",
       "      <th>...</th>\n",
       "      <td>...</td>\n",
       "      <td>...</td>\n",
       "    </tr>\n",
       "    <tr>\n",
       "      <th>2715468</th>\n",
       "      <td>2025-02-06 11:55:11</td>\n",
       "      <td>263</td>\n",
       "    </tr>\n",
       "    <tr>\n",
       "      <th>2716734</th>\n",
       "      <td>2025-02-06 11:55:32</td>\n",
       "      <td>263</td>\n",
       "    </tr>\n",
       "    <tr>\n",
       "      <th>2715162</th>\n",
       "      <td>2025-02-06 11:56:00</td>\n",
       "      <td>263</td>\n",
       "    </tr>\n",
       "    <tr>\n",
       "      <th>2716223</th>\n",
       "      <td>2025-02-06 11:56:58</td>\n",
       "      <td>263</td>\n",
       "    </tr>\n",
       "    <tr>\n",
       "      <th>2717267</th>\n",
       "      <td>2025-02-06 11:59:28</td>\n",
       "      <td>263</td>\n",
       "    </tr>\n",
       "  </tbody>\n",
       "</table>\n",
       "<p>2746167 rows × 2 columns</p>\n",
       "</div>"
      ],
      "text/plain": [
       "            pickup_datetime  pickup_location_id\n",
       "9893    2025-01-09 13:09:55                   3\n",
       "76883   2025-01-10 04:38:43                   3\n",
       "77498   2025-01-10 05:34:12                   3\n",
       "78620   2025-01-10 06:37:19                   3\n",
       "84804   2025-01-10 08:40:24                   3\n",
       "...                     ...                 ...\n",
       "2715468 2025-02-06 11:55:11                 263\n",
       "2716734 2025-02-06 11:55:32                 263\n",
       "2715162 2025-02-06 11:56:00                 263\n",
       "2716223 2025-02-06 11:56:58                 263\n",
       "2717267 2025-02-06 11:59:28                 263\n",
       "\n",
       "[2746167 rows x 2 columns]"
      ]
     },
     "execution_count": 8,
     "metadata": {},
     "output_type": "execute_result"
    }
   ],
   "source": [
    "rides"
   ]
  },
  {
   "cell_type": "code",
   "execution_count": 9,
   "id": "783eebf6-7c7d-4ef8-9134-a92c87123146",
   "metadata": {
    "execution": {
     "iopub.execute_input": "2025-02-06T12:54:05.894264Z",
     "iopub.status.busy": "2025-02-06T12:54:05.894264Z",
     "iopub.status.idle": "2025-02-06T12:54:07.244832Z",
     "shell.execute_reply": "2025-02-06T12:54:07.244832Z"
    }
   },
   "outputs": [],
   "source": [
    "from src.data_utils import transform_raw_data_into_ts_data\n",
    "ts_data = transform_raw_data_into_ts_data(rides)"
   ]
  },
  {
   "cell_type": "code",
   "execution_count": 10,
   "id": "adbca6ba-f012-4f40-b419-ed620a8e7054",
   "metadata": {
    "execution": {
     "iopub.execute_input": "2025-02-06T12:54:07.244832Z",
     "iopub.status.busy": "2025-02-06T12:54:07.244832Z",
     "iopub.status.idle": "2025-02-06T12:54:07.255470Z",
     "shell.execute_reply": "2025-02-06T12:54:07.255470Z"
    }
   },
   "outputs": [
    {
     "data": {
      "text/html": [
       "<div>\n",
       "<style scoped>\n",
       "    .dataframe tbody tr th:only-of-type {\n",
       "        vertical-align: middle;\n",
       "    }\n",
       "\n",
       "    .dataframe tbody tr th {\n",
       "        vertical-align: top;\n",
       "    }\n",
       "\n",
       "    .dataframe thead th {\n",
       "        text-align: right;\n",
       "    }\n",
       "</style>\n",
       "<table border=\"1\" class=\"dataframe\">\n",
       "  <thead>\n",
       "    <tr style=\"text-align: right;\">\n",
       "      <th></th>\n",
       "      <th>pickup_hour</th>\n",
       "      <th>pickup_location_id</th>\n",
       "      <th>rides</th>\n",
       "    </tr>\n",
       "  </thead>\n",
       "  <tbody>\n",
       "    <tr>\n",
       "      <th>0</th>\n",
       "      <td>2025-01-09 12:00:00</td>\n",
       "      <td>3</td>\n",
       "      <td>0</td>\n",
       "    </tr>\n",
       "    <tr>\n",
       "      <th>1</th>\n",
       "      <td>2025-01-09 13:00:00</td>\n",
       "      <td>3</td>\n",
       "      <td>1</td>\n",
       "    </tr>\n",
       "    <tr>\n",
       "      <th>2</th>\n",
       "      <td>2025-01-09 14:00:00</td>\n",
       "      <td>3</td>\n",
       "      <td>0</td>\n",
       "    </tr>\n",
       "    <tr>\n",
       "      <th>3</th>\n",
       "      <td>2025-01-09 15:00:00</td>\n",
       "      <td>3</td>\n",
       "      <td>0</td>\n",
       "    </tr>\n",
       "    <tr>\n",
       "      <th>4</th>\n",
       "      <td>2025-01-09 16:00:00</td>\n",
       "      <td>3</td>\n",
       "      <td>0</td>\n",
       "    </tr>\n",
       "    <tr>\n",
       "      <th>...</th>\n",
       "      <td>...</td>\n",
       "      <td>...</td>\n",
       "      <td>...</td>\n",
       "    </tr>\n",
       "    <tr>\n",
       "      <th>170683</th>\n",
       "      <td>2025-02-06 07:00:00</td>\n",
       "      <td>263</td>\n",
       "      <td>119</td>\n",
       "    </tr>\n",
       "    <tr>\n",
       "      <th>170684</th>\n",
       "      <td>2025-02-06 08:00:00</td>\n",
       "      <td>263</td>\n",
       "      <td>153</td>\n",
       "    </tr>\n",
       "    <tr>\n",
       "      <th>170685</th>\n",
       "      <td>2025-02-06 09:00:00</td>\n",
       "      <td>263</td>\n",
       "      <td>131</td>\n",
       "    </tr>\n",
       "    <tr>\n",
       "      <th>170686</th>\n",
       "      <td>2025-02-06 10:00:00</td>\n",
       "      <td>263</td>\n",
       "      <td>125</td>\n",
       "    </tr>\n",
       "    <tr>\n",
       "      <th>170687</th>\n",
       "      <td>2025-02-06 11:00:00</td>\n",
       "      <td>263</td>\n",
       "      <td>104</td>\n",
       "    </tr>\n",
       "  </tbody>\n",
       "</table>\n",
       "<p>170688 rows × 3 columns</p>\n",
       "</div>"
      ],
      "text/plain": [
       "               pickup_hour  pickup_location_id  rides\n",
       "0      2025-01-09 12:00:00                   3      0\n",
       "1      2025-01-09 13:00:00                   3      1\n",
       "2      2025-01-09 14:00:00                   3      0\n",
       "3      2025-01-09 15:00:00                   3      0\n",
       "4      2025-01-09 16:00:00                   3      0\n",
       "...                    ...                 ...    ...\n",
       "170683 2025-02-06 07:00:00                 263    119\n",
       "170684 2025-02-06 08:00:00                 263    153\n",
       "170685 2025-02-06 09:00:00                 263    131\n",
       "170686 2025-02-06 10:00:00                 263    125\n",
       "170687 2025-02-06 11:00:00                 263    104\n",
       "\n",
       "[170688 rows x 3 columns]"
      ]
     },
     "execution_count": 10,
     "metadata": {},
     "output_type": "execute_result"
    }
   ],
   "source": [
    "ts_data"
   ]
  },
  {
   "cell_type": "code",
   "execution_count": 11,
   "id": "0b8f1dc6-46d6-4fad-915b-c8c4c02b9887",
   "metadata": {
    "execution": {
     "iopub.execute_input": "2025-02-06T12:54:07.255470Z",
     "iopub.status.busy": "2025-02-06T12:54:07.255470Z",
     "iopub.status.idle": "2025-02-06T12:54:07.267417Z",
     "shell.execute_reply": "2025-02-06T12:54:07.267417Z"
    }
   },
   "outputs": [
    {
     "name": "stdout",
     "output_type": "stream",
     "text": [
      "<class 'pandas.core.frame.DataFrame'>\n",
      "RangeIndex: 170688 entries, 0 to 170687\n",
      "Data columns (total 3 columns):\n",
      " #   Column              Non-Null Count   Dtype         \n",
      "---  ------              --------------   -----         \n",
      " 0   pickup_hour         170688 non-null  datetime64[ns]\n",
      " 1   pickup_location_id  170688 non-null  int32         \n",
      " 2   rides               170688 non-null  int32         \n",
      "dtypes: datetime64[ns](1), int32(2)\n",
      "memory usage: 2.6 MB\n"
     ]
    }
   ],
   "source": [
    "ts_data.info()"
   ]
  },
  {
   "cell_type": "code",
   "execution_count": 12,
   "id": "0c2d5acd-0f97-4117-b61d-6135391891db",
   "metadata": {
    "execution": {
     "iopub.execute_input": "2025-02-06T12:54:07.270060Z",
     "iopub.status.busy": "2025-02-06T12:54:07.270060Z",
     "iopub.status.idle": "2025-02-06T12:54:14.329505Z",
     "shell.execute_reply": "2025-02-06T12:54:14.329505Z"
    }
   },
   "outputs": [
    {
     "name": "stdout",
     "output_type": "stream",
     "text": [
      "2025-02-06 07:54:11,178 INFO: Initializing external client\n"
     ]
    },
    {
     "name": "stdout",
     "output_type": "stream",
     "text": [
      "2025-02-06 07:54:11,194 INFO: Base URL: https://c.app.hopsworks.ai:443\n"
     ]
    },
    {
     "name": "stdout",
     "output_type": "stream",
     "text": [
      "2025-02-06 07:54:13,466 INFO: Python Engine initialized.\n"
     ]
    },
    {
     "name": "stdout",
     "output_type": "stream",
     "text": [
      "\n",
      "Logged in to project, explore it here https://c.app.hopsworks.ai:443/p/1211551\n"
     ]
    }
   ],
   "source": [
    "import hopsworks\n",
    "\n",
    "# connect to the project\n",
    "project = hopsworks.login(\n",
    "    project=config.HOPSWORKS_PROJECT_NAME,\n",
    "    api_key_value=config.HOPSWORKS_API_KEY\n",
    ")\n",
    "\n",
    "# connect to the feature store\n",
    "feature_store = project.get_feature_store()\n",
    "\n",
    "# connect to the feature group\n",
    "feature_group = feature_store.get_or_create_feature_group(\n",
    "    name=config.FEATURE_GROUP_NAME,\n",
    "    version=config.FEATURE_GROUP_VERSION,\n",
    "    description=\"Time-series data at hourly frequency\",\n",
    "    primary_key=['pickup_location_id', 'pickup_hour'],\n",
    "    event_time='pickup_hour',\n",
    ")\n",
    "\n"
   ]
  },
  {
   "cell_type": "code",
   "execution_count": 13,
   "id": "b3093058-9e94-4b49-9ad9-32dace742a31",
   "metadata": {
    "execution": {
     "iopub.execute_input": "2025-02-06T12:54:14.335903Z",
     "iopub.status.busy": "2025-02-06T12:54:14.335903Z",
     "iopub.status.idle": "2025-02-06T12:54:44.121299Z",
     "shell.execute_reply": "2025-02-06T12:54:44.121299Z"
    }
   },
   "outputs": [
    {
     "name": "stderr",
     "output_type": "stream",
     "text": [
      "\r",
      "Uploading Dataframe: 0.00% |                                  | Rows 0/170688 | Elapsed Time: 00:00 | Remaining Time: ?"
     ]
    },
    {
     "name": "stderr",
     "output_type": "stream",
     "text": [
      "\r",
      "Uploading Dataframe: 6.57% |█▋                        | Rows 11214/170688 | Elapsed Time: 00:01 | Remaining Time: 00:14"
     ]
    },
    {
     "name": "stderr",
     "output_type": "stream",
     "text": [
      "\r",
      "Uploading Dataframe: 13.12% |███▎                     | Rows 22396/170688 | Elapsed Time: 00:02 | Remaining Time: 00:13"
     ]
    },
    {
     "name": "stderr",
     "output_type": "stream",
     "text": [
      "\r",
      "Uploading Dataframe: 19.65% |████▉                    | Rows 33539/170688 | Elapsed Time: 00:03 | Remaining Time: 00:13"
     ]
    },
    {
     "name": "stderr",
     "output_type": "stream",
     "text": [
      "\r",
      "Uploading Dataframe: 25.70% |██████▍                  | Rows 43870/170688 | Elapsed Time: 00:04 | Remaining Time: 00:12"
     ]
    },
    {
     "name": "stderr",
     "output_type": "stream",
     "text": [
      "\r",
      "Uploading Dataframe: 31.92% |███████▉                 | Rows 54481/170688 | Elapsed Time: 00:05 | Remaining Time: 00:11"
     ]
    },
    {
     "name": "stderr",
     "output_type": "stream",
     "text": [
      "\r",
      "Uploading Dataframe: 38.19% |█████████▌               | Rows 65189/170688 | Elapsed Time: 00:06 | Remaining Time: 00:10"
     ]
    },
    {
     "name": "stderr",
     "output_type": "stream",
     "text": [
      "\r",
      "Uploading Dataframe: 44.68% |███████████▏             | Rows 76255/170688 | Elapsed Time: 00:07 | Remaining Time: 00:08"
     ]
    },
    {
     "name": "stderr",
     "output_type": "stream",
     "text": [
      "\r",
      "Uploading Dataframe: 51.37% |████████████▊            | Rows 87688/170688 | Elapsed Time: 00:08 | Remaining Time: 00:07"
     ]
    },
    {
     "name": "stderr",
     "output_type": "stream",
     "text": [
      "\r",
      "Uploading Dataframe: 57.98% |██████████████▍          | Rows 98957/170688 | Elapsed Time: 00:09 | Remaining Time: 00:06"
     ]
    },
    {
     "name": "stderr",
     "output_type": "stream",
     "text": [
      "\r",
      "Uploading Dataframe: 64.40% |███████████████▍        | Rows 109919/170688 | Elapsed Time: 00:10 | Remaining Time: 00:05"
     ]
    },
    {
     "name": "stderr",
     "output_type": "stream",
     "text": [
      "\r",
      "Uploading Dataframe: 70.78% |████████████████▉       | Rows 120819/170688 | Elapsed Time: 00:11 | Remaining Time: 00:04"
     ]
    },
    {
     "name": "stderr",
     "output_type": "stream",
     "text": [
      "\r",
      "Uploading Dataframe: 77.35% |██████████████████▌     | Rows 132029/170688 | Elapsed Time: 00:12 | Remaining Time: 00:03"
     ]
    },
    {
     "name": "stderr",
     "output_type": "stream",
     "text": [
      "\r",
      "Uploading Dataframe: 83.75% |████████████████████    | Rows 142959/170688 | Elapsed Time: 00:13 | Remaining Time: 00:02"
     ]
    },
    {
     "name": "stderr",
     "output_type": "stream",
     "text": [
      "\r",
      "Uploading Dataframe: 90.13% |█████████████████████▋  | Rows 153849/170688 | Elapsed Time: 00:14 | Remaining Time: 00:01"
     ]
    },
    {
     "name": "stderr",
     "output_type": "stream",
     "text": [
      "\r",
      "Uploading Dataframe: 96.43% |███████████████████████▏| Rows 164595/170688 | Elapsed Time: 00:15 | Remaining Time: 00:00"
     ]
    },
    {
     "name": "stderr",
     "output_type": "stream",
     "text": [
      "\r",
      "Uploading Dataframe: 100.00% |███████████████████████| Rows 170688/170688 | Elapsed Time: 00:16 | Remaining Time: 00:00"
     ]
    },
    {
     "name": "stderr",
     "output_type": "stream",
     "text": [
      "\n"
     ]
    },
    {
     "name": "stdout",
     "output_type": "stream",
     "text": [
      "Launching job: time_series_hourly_feature_group_1_offline_fg_materialization\n"
     ]
    },
    {
     "name": "stdout",
     "output_type": "stream",
     "text": [
      "Job started successfully, you can follow the progress at \n",
      "https://c.app.hopsworks.ai:443/p/1211551/jobs/named/time_series_hourly_feature_group_1_offline_fg_materialization/executions\n"
     ]
    },
    {
     "data": {
      "text/plain": [
       "(Job('time_series_hourly_feature_group_1_offline_fg_materialization', 'SPARK'),\n",
       " None)"
      ]
     },
     "execution_count": 13,
     "metadata": {},
     "output_type": "execute_result"
    }
   ],
   "source": [
    "feature_group.insert(ts_data, write_options={\"wait_for_job\": False})"
   ]
  }
 ],
 "metadata": {
  "kernelspec": {
   "display_name": "Python 3 (ipykernel)",
   "language": "python",
   "name": "python3"
  },
  "language_info": {
   "codemirror_mode": {
    "name": "ipython",
    "version": 3
   },
   "file_extension": ".py",
   "mimetype": "text/x-python",
   "name": "python",
   "nbconvert_exporter": "python",
   "pygments_lexer": "ipython3",
   "version": "3.11.11"
  }
 },
 "nbformat": 4,
 "nbformat_minor": 5
}
