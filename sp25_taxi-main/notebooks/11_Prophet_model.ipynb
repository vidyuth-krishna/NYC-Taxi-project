{
 "cells": [
  {
   "cell_type": "code",
   "execution_count": 1,
   "metadata": {},
   "outputs": [],
   "source": [
    "%load_ext autoreload\n",
    "%autoreload 2"
   ]
  },
  {
   "cell_type": "code",
   "execution_count": 5,
   "metadata": {},
   "outputs": [
    {
     "name": "stderr",
     "output_type": "stream",
     "text": [
      "c:\\Users\\vidyu\\AppData\\Local\\Programs\\Python\\Python312\\Lib\\site-packages\\tqdm\\auto.py:21: TqdmWarning: IProgress not found. Please update jupyter and ipywidgets. See https://ipywidgets.readthedocs.io/en/stable/user_install.html\n",
      "  from .autonotebook import tqdm as notebook_tqdm\n"
     ]
    }
   ],
   "source": [
    "import pandas as pd\n",
    "from src.config import TRANSFORMED_DATA_DIR\n",
    "from prophet import Prophet\n",
    "from sklearn.metrics import mean_absolute_error\n",
    "from src.experiment_utils import set_mlflow_tracking\n",
    "from dotenv import load_dotenv\n",
    "import mlflow\n",
    "import pickle "
   ]
  },
  {
   "cell_type": "code",
   "execution_count": 2,
   "metadata": {},
   "outputs": [],
   "source": [
    "import sys\n",
    "import os\n",
    "\n",
    "# Add the parent directory to the Python path\n",
    "sys.path.append(os.path.abspath(os.path.join(os.getcwd(), \"..\")))"
   ]
  },
  {
   "cell_type": "code",
   "execution_count": 3,
   "metadata": {},
   "outputs": [],
   "source": [
    "import pandas as pd\n",
    "from src.config import TRANSFORMED_DATA_DIR\n",
    "\n",
    "df = pd.read_parquet(TRANSFORMED_DATA_DIR / \"tabular_data.parquet\")"
   ]
  },
  {
   "cell_type": "markdown",
   "metadata": {},
   "source": [
    "✅ Time-Based Features\n",
    "\n",
    "week_day (Captures weekly patterns)\n",
    "\n",
    "hour_of_day (Captures daily ride demand cycles)\n",
    "\n",
    "month (Captures seasonal shifts)\n",
    "\n",
    "\n",
    "\n",
    "✅ Better Trend Features\n",
    "\n",
    "rolling_mean_7d: 7-day rolling mean of past rides (captures weekly trend)\n",
    "\n",
    "rolling_mean_24h: 24-hour rolling mean (captures daily trend)\n",
    "\n",
    "rolling_std_7d: 7-day rolling standard deviation (captures variability)"
   ]
  },
  {
   "cell_type": "code",
   "execution_count": 22,
   "metadata": {},
   "outputs": [],
   "source": [
    "df['pickup_hour'] = pd.to_datetime(df['pickup_hour'])\n",
    "df['week_day'] = df['pickup_hour'].dt.weekday\n",
    "df['hour_of_day'] = df['pickup_hour'].dt.hour\n",
    "df['month'] = df['pickup_hour'].dt.month"
   ]
  },
  {
   "cell_type": "code",
   "execution_count": 23,
   "metadata": {},
   "outputs": [],
   "source": [
    "df['rolling_mean_7d'] = df['target'].rolling(window=7, min_periods=1).mean()\n",
    "df['rolling_mean_24h'] = df['target'].rolling(window=24, min_periods=1).mean()\n",
    "df['rolling_std_7d'] = df['target'].rolling(window=7, min_periods=1).std()"
   ]
  },
  {
   "cell_type": "code",
   "execution_count": 28,
   "metadata": {},
   "outputs": [
    {
     "name": "stderr",
     "output_type": "stream",
     "text": [
      "C:\\Users\\vidyu\\AppData\\Local\\Temp\\ipykernel_62444\\1857104397.py:7: FutureWarning: A value is trying to be set on a copy of a DataFrame or Series through chained assignment using an inplace method.\n",
      "The behavior will change in pandas 3.0. This inplace method will never work because the intermediate object on which we are setting values always behaves as a copy.\n",
      "\n",
      "For example, when doing 'df[col].method(value, inplace=True)', try using 'df.method({col: value}, inplace=True)' or df[col] = df[col].method(value) instead, to perform the operation inplace on the original object.\n",
      "\n",
      "\n",
      "  df['rolling_std_7d'].fillna(0, inplace=True)\n"
     ]
    }
   ],
   "source": [
    "# Adding rolling window features\n",
    "df['rolling_mean_7d'] = df['target'].rolling(window=7, min_periods=1).mean()\n",
    "df['rolling_mean_24h'] = df['target'].rolling(window=24, min_periods=1).mean()\n",
    "df['rolling_std_7d'] = df['target'].rolling(window=7, min_periods=1).std()\n",
    "\n",
    "# Fill NaNs with 0 (or you can use forward fill: df['rolling_std_7d'].ffill())\n",
    "df['rolling_std_7d'].fillna(0, inplace=True)\n"
   ]
  },
  {
   "cell_type": "code",
   "execution_count": 29,
   "metadata": {},
   "outputs": [],
   "source": [
    "df_prophet = df.rename(columns={'pickup_hour': 'ds', 'target': 'y'})"
   ]
  },
  {
   "cell_type": "code",
   "execution_count": 30,
   "metadata": {},
   "outputs": [],
   "source": [
    "exog_features = ['week_day', 'hour_of_day', 'month', 'rolling_mean_7d', 'rolling_mean_24h', 'rolling_std_7d']\n",
    "available_features = [feat for feat in exog_features if feat in df.columns]"
   ]
  },
  {
   "cell_type": "code",
   "execution_count": 31,
   "metadata": {},
   "outputs": [],
   "source": [
    "train_size = int(len(df) * 0.85)\n",
    "train, test = df_prophet.iloc[:train_size], df_prophet.iloc[train_size:]"
   ]
  },
  {
   "cell_type": "code",
   "execution_count": 32,
   "metadata": {},
   "outputs": [
    {
     "name": "stderr",
     "output_type": "stream",
     "text": [
      "DEBUG:cmdstanpy:cmd: where.exe tbb.dll\n",
      "cwd: None\n",
      "DEBUG:cmdstanpy:TBB already found in load path\n",
      "INFO:prophet:Disabling yearly seasonality. Run prophet with yearly_seasonality=True to override this.\n",
      "DEBUG:cmdstanpy:input tempfile: C:\\Users\\vidyu\\AppData\\Local\\Temp\\tmp_awtdk2v\\mx_53a3d.json\n",
      "DEBUG:cmdstanpy:input tempfile: C:\\Users\\vidyu\\AppData\\Local\\Temp\\tmp_awtdk2v\\iz69pbzh.json\n",
      "DEBUG:cmdstanpy:idx 0\n",
      "DEBUG:cmdstanpy:running CmdStan, num_threads: None\n",
      "DEBUG:cmdstanpy:CmdStan args: ['C:\\\\Users\\\\vidyu\\\\AppData\\\\Local\\\\Programs\\\\Python\\\\Python312\\\\Lib\\\\site-packages\\\\prophet\\\\stan_model\\\\prophet_model.bin', 'random', 'seed=80173', 'data', 'file=C:\\\\Users\\\\vidyu\\\\AppData\\\\Local\\\\Temp\\\\tmp_awtdk2v\\\\mx_53a3d.json', 'init=C:\\\\Users\\\\vidyu\\\\AppData\\\\Local\\\\Temp\\\\tmp_awtdk2v\\\\iz69pbzh.json', 'output', 'file=C:\\\\Users\\\\vidyu\\\\AppData\\\\Local\\\\Temp\\\\tmp_awtdk2v\\\\prophet_model9dcecjl7\\\\prophet_model-20250223234906.csv', 'method=optimize', 'algorithm=lbfgs', 'iter=10000']\n",
      "23:49:06 - cmdstanpy - INFO - Chain [1] start processing\n",
      "INFO:cmdstanpy:Chain [1] start processing\n",
      "23:49:22 - cmdstanpy - INFO - Chain [1] done processing\n",
      "INFO:cmdstanpy:Chain [1] done processing\n"
     ]
    },
    {
     "data": {
      "text/plain": [
       "<prophet.forecaster.Prophet at 0x1f8ff8b41d0>"
      ]
     },
     "execution_count": 32,
     "metadata": {},
     "output_type": "execute_result"
    }
   ],
   "source": [
    "model = Prophet(\n",
    "    growth=\"linear\",\n",
    "    changepoint_prior_scale=0.5,  # More flexibility in trends\n",
    "    seasonality_prior_scale=10.0,  # Give seasonality more importance\n",
    "    weekly_seasonality=False,  # Manually adding it\n",
    "    daily_seasonality=False,  # Manually adding it\n",
    ")\n",
    "\n",
    "# Manually add seasonality components with higher Fourier orders\n",
    "model.add_seasonality(name=\"weekly\", period=7, fourier_order=10)\n",
    "model.add_seasonality(name=\"daily\", period=24, fourier_order=8)\n",
    "\n",
    "# Add regressors\n",
    "for feature in available_features:\n",
    "    model.add_regressor(feature)\n",
    "\n",
    "# Fit the model\n",
    "model.fit(train[['ds', 'y'] + available_features])\n"
   ]
  },
  {
   "cell_type": "code",
   "execution_count": 33,
   "metadata": {},
   "outputs": [
    {
     "name": "stdout",
     "output_type": "stream",
     "text": [
      "🚀 Optimized Prophet Train MAE: 20.722776731620133\n",
      "🚀 Optimized Prophet Test MAE: 31.544080874069476\n"
     ]
    }
   ],
   "source": [
    "# Forecasting\n",
    "future = test[['ds'] + available_features]\n",
    "forecast = model.predict(future)\n",
    "\n",
    "# Get test predictions\n",
    "test_predictions = forecast['yhat'].values\n",
    "test_mae = mean_absolute_error(test['y'], test_predictions)\n",
    "\n",
    "# Train MAE calculation using fitted values\n",
    "train_forecast = model.predict(train[['ds'] + available_features])\n",
    "train_mae = mean_absolute_error(train['y'], train_forecast['yhat'])\n",
    "\n",
    "print(f\"🚀 Optimized Prophet Train MAE: {train_mae}\")\n",
    "print(f\"🚀 Optimized Prophet Test MAE: {test_mae}\")"
   ]
  }
 ],
 "metadata": {
  "kernelspec": {
   "display_name": "Python 3",
   "language": "python",
   "name": "python3"
  },
  "language_info": {
   "codemirror_mode": {
    "name": "ipython",
    "version": 3
   },
   "file_extension": ".py",
   "mimetype": "text/x-python",
   "name": "python",
   "nbconvert_exporter": "python",
   "pygments_lexer": "ipython3",
   "version": "3.12.4"
  }
 },
 "nbformat": 4,
 "nbformat_minor": 2
}
