{
 "cells": [
  {
   "cell_type": "code",
   "execution_count": 23,
   "metadata": {},
   "outputs": [
    {
     "name": "stdout",
     "output_type": "stream",
     "text": [
      "The autoreload extension is already loaded. To reload it, use:\n",
      "  %reload_ext autoreload\n"
     ]
    }
   ],
   "source": [
    "%load_ext autoreload\n",
    "%autoreload 2"
   ]
  },
  {
   "cell_type": "code",
   "execution_count": 24,
   "metadata": {},
   "outputs": [],
   "source": [
    "import sys\n",
    "import os\n",
    "\n",
    "# Add the parent directory to the Python path\n",
    "sys.path.append(os.path.abspath(os.path.join(os.getcwd(), \"..\")))"
   ]
  },
  {
   "cell_type": "code",
   "execution_count": 25,
   "metadata": {},
   "outputs": [],
   "source": [
    "import pandas as pd\n",
    "from src.config import TRANSFORMED_DATA_DIR\n",
    "\n",
    "df = pd.read_parquet(TRANSFORMED_DATA_DIR / \"tabular_data.parquet\")"
   ]
  },
  {
   "cell_type": "code",
   "execution_count": 30,
   "metadata": {},
   "outputs": [],
   "source": [
    "# Extract time-based features\n",
    "df['pickup_hour'] = pd.to_datetime(df['pickup_hour'])\n",
    "df['week_day'] = df['pickup_hour'].dt.weekday  \n",
    "df['hour_of_day'] = df['pickup_hour'].dt.hour  \n",
    "\n",
    "selected_lags = ['rides_t-1', 'rides_t-2', 'rides_t-3', \n",
    "                 'rides_t-24', 'rides_t-168', 'rides_t-672']\n",
    "\n",
    "features = selected_lags + ['week_day', 'hour_of_day']\n",
    "target = 'target'"
   ]
  },
  {
   "cell_type": "code",
   "execution_count": 42,
   "metadata": {},
   "outputs": [
    {
     "name": "stderr",
     "output_type": "stream",
     "text": [
      "c:\\Users\\vidyu\\AppData\\Local\\Programs\\Python\\Python312\\Lib\\site-packages\\statsmodels\\tsa\\statespace\\sarimax.py:966: UserWarning: Non-stationary starting autoregressive parameters found. Using zeros as starting parameters.\n",
      "  warn('Non-stationary starting autoregressive parameters'\n",
      "c:\\Users\\vidyu\\AppData\\Local\\Programs\\Python\\Python312\\Lib\\site-packages\\statsmodels\\tsa\\statespace\\sarimax.py:978: UserWarning: Non-invertible starting MA parameters found. Using zeros as starting parameters.\n",
      "  warn('Non-invertible starting MA parameters found.'\n",
      "c:\\Users\\vidyu\\AppData\\Local\\Programs\\Python\\Python312\\Lib\\site-packages\\statsmodels\\base\\model.py:607: ConvergenceWarning: Maximum Likelihood optimization failed to converge. Check mle_retvals\n",
      "  warnings.warn(\"Maximum Likelihood optimization failed to \"\n"
     ]
    },
    {
     "name": "stdout",
     "output_type": "stream",
     "text": [
      "ARIMA(2, 0, 1) MAE: 3.7203006856959373\n"
     ]
    }
   ],
   "source": [
    "\n",
    "from statsmodels.tsa.arima.model import ARIMA\n",
    "from sklearn.metrics import mean_absolute_error\n",
    "\n",
    "train_size = int(0.8 * len(df))\n",
    "train, test = df.iloc[:train_size], df.iloc[train_size:]\n",
    "\n",
    "arma_order = (2, 0, 1)\n",
    "arma_model = ARIMA(train[target], order=arma_order, exog=train[features]).fit()\n",
    "\n",
    "# Make predictions\n",
    "arma_preds = arma_model.forecast(steps=len(test), exog=test[features])\n",
    "\n",
    "# Evaluate model\n",
    "arma_mae = mean_absolute_error(test[target], arma_preds)\n",
    "print(f\"ARIMA{arma_order} MAE: {arma_mae}\")"
   ]
  },
  {
   "cell_type": "code",
   "execution_count": 43,
   "metadata": {},
   "outputs": [
    {
     "name": "stdout",
     "output_type": "stream",
     "text": [
      "\n",
      "Best Model: ARIMA, MAE: 3.7203006856959373\n"
     ]
    },
    {
     "data": {
      "image/png": "[encoded data removed]",
      "text/plain": [
       "<Figure size 1000x400 with 1 Axes>"
      ]
     },
     "metadata": {},
     "output_type": "display_data"
    }
   ],
   "source": [
    "import matplotlib.pyplot as plt \n",
    "\n",
    "best_model, best_mae, best_preds = 'ARIMA', arma_mae, arma_preds\n",
    "print(f\"\\nBest Model: {best_model}, MAE: {best_mae}\")\n",
    "\n",
    "# ===========================\n",
    "# Residual Analysis\n",
    "# ===========================\n",
    "residuals = test[target] - best_preds\n",
    "plt.figure(figsize=(10, 4))\n",
    "plt.plot(residuals)\n",
    "plt.axhline(0, linestyle='--', color='red')\n",
    "plt.title(f\"Residuals of {best_model} Model\")\n",
    "plt.show()"
   ]
  },
  {
   "cell_type": "code",
   "execution_count": 44,
   "metadata": {},
   "outputs": [
    {
     "name": "stdout",
     "output_type": "stream",
     "text": [
      "Training MAE: 3.048829216677974\n",
      "Test MAE: 3.7203006856959373\n"
     ]
    }
   ],
   "source": [
    "# Get in-sample predictions for training MAE\n",
    "train_preds = arma_model.fittedvalues  # In-sample predictions\n",
    "train_mae = mean_absolute_error(train[target], train_preds)\n",
    "\n",
    "print(f\"Training MAE: {train_mae}\")\n",
    "print(f\"Test MAE: {arma_mae}\")\n"
   ]
  },
  {
   "cell_type": "code",
   "execution_count": 46,
   "metadata": {},
   "outputs": [
    {
     "name": "stderr",
     "output_type": "stream",
     "text": [
      "INFO:src.experiment_utils:MLflow tracking URI and credentials set.\n",
      "c:\\Users\\vidyu\\AppData\\Local\\Programs\\Python\\Python312\\Lib\\site-packages\\statsmodels\\tsa\\statespace\\sarimax.py:966: UserWarning: Non-stationary starting autoregressive parameters found. Using zeros as starting parameters.\n",
      "  warn('Non-stationary starting autoregressive parameters'\n",
      "c:\\Users\\vidyu\\AppData\\Local\\Programs\\Python\\Python312\\Lib\\site-packages\\statsmodels\\tsa\\statespace\\sarimax.py:978: UserWarning: Non-invertible starting MA parameters found. Using zeros as starting parameters.\n",
      "  warn('Non-invertible starting MA parameters found.'\n",
      "c:\\Users\\vidyu\\AppData\\Local\\Programs\\Python\\Python312\\Lib\\site-packages\\statsmodels\\base\\model.py:607: ConvergenceWarning: Maximum Likelihood optimization failed to converge. Check mle_retvals\n",
      "  warnings.warn(\"Maximum Likelihood optimization failed to \"\n",
      "2025/02/23 21:03:39 WARNING mlflow.models.model: Model logged without a signature and input example. Please set `input_example` parameter when logging the model to auto infer the model signature.\n",
      "WARNING:urllib3.connectionpool:Retrying (Retry(total=4, connect=5, read=5, redirect=5, status=5)) after connection broken by 'SSLEOFError(8, 'EOF occurred in violation of protocol (_ssl.c:2406)')': /vidyuthkrishna03/nyc-taxi-rides-prediction.mlflow/api/2.0/mlflow-artifacts/artifacts/42f02064e308464a8da00f171134075c/68dd9034f22848ff86c87abb3af6a82a/artifacts/ARMA_Model/model.pkl\n"
     ]
    },
    {
     "name": "stdout",
     "output_type": "stream",
     "text": [
      "🏃 View run ARIMA with Feature Engineering at: https://dagshub.com/vidyuthkrishna03/nyc-taxi-rides-prediction.mlflow/#/experiments/0/runs/68dd9034f22848ff86c87abb3af6a82a\n",
      "🧪 View experiment at: https://dagshub.com/vidyuthkrishna03/nyc-taxi-rides-prediction.mlflow/#/experiments/0\n",
      "Logged ARMA model to MLflow with Train MAE: 3.048829216677974, Test MAE: 3.7203006856959373\n"
     ]
    }
   ],
   "source": [
    "from src.experiment_utils import set_mlflow_tracking\n",
    "from dotenv import load_dotenv\n",
    "import mlflow\n",
    "import os\n",
    "\n",
    "# Load environment variables\n",
    "load_dotenv()\n",
    "\n",
    "# Set MLflow tracking\n",
    "mlflow = set_mlflow_tracking()\n",
    "\n",
    "# Train ARMA model\n",
    "train_size = int(0.8 * len(df))\n",
    "train, test = df.iloc[:train_size], df.iloc[train_size:]\n",
    "\n",
    "arma_order = (2, 0, 1)\n",
    "arma_model = ARIMA(train[target], order=arma_order, exog=train[features]).fit()\n",
    "\n",
    "# Make predictions\n",
    "arma_preds = arma_model.forecast(steps=len(test), exog=test[features])\n",
    "\n",
    "# Evaluate model\n",
    "arma_mae = mean_absolute_error(test[target], arma_preds)\n",
    "\n",
    "# Get in-sample predictions for training MAE\n",
    "train_preds = arma_model.fittedvalues\n",
    "train_mae = mean_absolute_error(train[target], train_preds)\n",
    "\n",
    "# Log to MLflow\n",
    "with mlflow.start_run():\n",
    "    mlflow.log_param(\"model_type\", \"ARIMA with FE\")\n",
    "    mlflow.log_param(\"order\", arma_order)\n",
    "    \n",
    "    mlflow.log_metric(\"train_mae\", train_mae)\n",
    "    mlflow.log_metric(\"test_mae\", arma_mae)\n",
    "\n",
    "    # Log the model\n",
    "    mlflow.sklearn.log_model(arma_model, \"ARMA_Model\")\n",
    "\n",
    "print(f\"Logged ARMA model to MLflow with Train MAE: {train_mae}, Test MAE: {arma_mae}\")\n"
   ]
  }
 ],
 "metadata": {
  "kernelspec": {
   "display_name": "Python 3",
   "language": "python",
   "name": "python3"
  },
  "language_info": {
   "codemirror_mode": {
    "name": "ipython",
    "version": 3
   },
   "file_extension": ".py",
   "mimetype": "text/x-python",
   "name": "python",
   "nbconvert_exporter": "python",
   "pygments_lexer": "ipython3",
   "version": "3.12.4"
  }
 },
 "nbformat": 4,
 "nbformat_minor": 2
}
