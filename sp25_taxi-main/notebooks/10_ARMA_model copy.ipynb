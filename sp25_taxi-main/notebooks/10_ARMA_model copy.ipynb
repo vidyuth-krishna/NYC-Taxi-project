{
 "cells": [
  {
   "cell_type": "code",
   "execution_count": 2,
   "metadata": {},
   "outputs": [
    {
     "name": "stdout",
     "output_type": "stream",
     "text": [
      "The autoreload extension is already loaded. To reload it, use:\n",
      "  %reload_ext autoreload\n"
     ]
    }
   ],
   "source": [
    "%load_ext autoreload\n",
    "%autoreload 2"
   ]
  },
  {
   "cell_type": "code",
   "execution_count": 3,
   "metadata": {},
   "outputs": [],
   "source": [
    "import sys\n",
    "import os\n",
    "\n",
    "# Add the parent directory to the Python path\n",
    "sys.path.append(os.path.abspath(os.path.join(os.getcwd(), \"..\")))"
   ]
  },
  {
   "cell_type": "code",
   "execution_count": 4,
   "metadata": {},
   "outputs": [],
   "source": [
    "import pandas as pd\n",
    "from src.config import TRANSFORMED_DATA_DIR\n",
    "\n",
    "df = pd.read_parquet(TRANSFORMED_DATA_DIR / \"tabular_data.parquet\")"
   ]
  },
  {
   "cell_type": "code",
   "execution_count": 5,
   "metadata": {},
   "outputs": [],
   "source": [
    "df['week_day'] = df['pickup_hour'].dt.hour % 168  # Capture weekly patterns\n",
    "df['hour_of_day'] = df['pickup_hour'].dt.hour % 24  # Capture daily patterns\n"
   ]
  },
  {
   "cell_type": "code",
   "execution_count": 11,
   "metadata": {},
   "outputs": [],
   "source": [
    "import numpy as np \n",
    "from statsmodels.tsa.arima.model import ARIMA\n",
    "from sklearn.metrics import mean_absolute_error\n",
    "import numpy as np\n",
    "\n",
    "def train_arma(df):\n",
    "    # Selecting key lag features\n",
    "    selected_lags = ['rides_t-1', 'rides_t-24', 'rides_t-168', 'rides_t-672']\n",
    "    \n",
    "    # Train-test split\n",
    "    train_size = int(len(df) * 0.9)\n",
    "    train, test = df.iloc[:train_size], df.iloc[train_size:]\n",
    "    \n",
    "    # ARMA Model Selection\n",
    "    best_aic = np.inf\n",
    "    best_order = None\n",
    "    best_model = None\n",
    "    \n",
    "    for p in range(3):  # Try small values for AR\n",
    "        for q in range(3):  # Try small values for MA\n",
    "            try:\n",
    "                model = ARIMA(train['target'], order=(p, 0, q), exog=train[selected_lags])\n",
    "                fitted = model.fit()\n",
    "                if fitted.aic < best_aic:\n",
    "                    best_aic = fitted.aic\n",
    "                    best_order = (p, q)\n",
    "                    best_model = fitted\n",
    "            except:\n",
    "                continue\n",
    "    \n",
    "    print(f\"Best ARMA Order: {best_order}, AIC: {best_aic}\")\n",
    "    \n",
    "    # Forecasting\n",
    "    test_predictions = best_model.forecast(steps=len(test), exog=test[selected_lags])\n",
    "    test_mae = mean_absolute_error(test['target'], test_predictions)\n",
    "\n",
    "    # Train MAE Calculation (using in-sample fitted values)\n",
    "    train_predictions = best_model.fittedvalues\n",
    "    train_mae = mean_absolute_error(train['target'], train_predictions)\n",
    "\n",
    "    print(f\"Train MAE: {train_mae}\")\n",
    "    print(f\"Test MAE: {test_mae}\")\n",
    "    \n",
    "    return best_model, train_mae, test_mae"
   ]
  },
  {
   "cell_type": "code",
   "execution_count": 12,
   "metadata": {},
   "outputs": [
    {
     "name": "stderr",
     "output_type": "stream",
     "text": [
      "c:\\Users\\vidyu\\AppData\\Local\\Programs\\Python\\Python312\\Lib\\site-packages\\statsmodels\\tsa\\statespace\\sarimax.py:966: UserWarning: Non-stationary starting autoregressive parameters found. Using zeros as starting parameters.\n",
      "  warn('Non-stationary starting autoregressive parameters'\n",
      "c:\\Users\\vidyu\\AppData\\Local\\Programs\\Python\\Python312\\Lib\\site-packages\\statsmodels\\tsa\\statespace\\sarimax.py:978: UserWarning: Non-invertible starting MA parameters found. Using zeros as starting parameters.\n",
      "  warn('Non-invertible starting MA parameters found.'\n",
      "c:\\Users\\vidyu\\AppData\\Local\\Programs\\Python\\Python312\\Lib\\site-packages\\statsmodels\\base\\model.py:607: ConvergenceWarning: Maximum Likelihood optimization failed to converge. Check mle_retvals\n",
      "  warnings.warn(\"Maximum Likelihood optimization failed to \"\n"
     ]
    },
    {
     "name": "stdout",
     "output_type": "stream",
     "text": [
      "Best ARMA Order: (1, 2), AIC: 596404.6286985173\n",
      "Train MAE: 3.052895214388896\n",
      "Test MAE: 5.22049574945898\n"
     ]
    }
   ],
   "source": [
    "best_model, train_mae, test_mae = train_arma(df)"
   ]
  },
  {
   "cell_type": "code",
   "execution_count": 18,
   "metadata": {},
   "outputs": [
    {
     "name": "stderr",
     "output_type": "stream",
     "text": [
      "INFO:src.experiment_utils:MLflow tracking URI and credentials set.\n",
      "c:\\Users\\vidyu\\AppData\\Local\\Programs\\Python\\Python312\\Lib\\site-packages\\statsmodels\\tsa\\statespace\\sarimax.py:966: UserWarning: Non-stationary starting autoregressive parameters found. Using zeros as starting parameters.\n",
      "  warn('Non-stationary starting autoregressive parameters'\n",
      "c:\\Users\\vidyu\\AppData\\Local\\Programs\\Python\\Python312\\Lib\\site-packages\\statsmodels\\tsa\\statespace\\sarimax.py:978: UserWarning: Non-invertible starting MA parameters found. Using zeros as starting parameters.\n",
      "  warn('Non-invertible starting MA parameters found.'\n",
      "c:\\Users\\vidyu\\AppData\\Local\\Programs\\Python\\Python312\\Lib\\site-packages\\statsmodels\\base\\model.py:607: ConvergenceWarning: Maximum Likelihood optimization failed to converge. Check mle_retvals\n",
      "  warnings.warn(\"Maximum Likelihood optimization failed to \"\n",
      "WARNING:urllib3.connectionpool:Retrying (Retry(total=4, connect=5, read=4, redirect=5, status=5)) after connection broken by 'RemoteDisconnected('Remote end closed connection without response')': /vidyuthkrishna03/nyc-taxi-rides-prediction.mlflow/api/2.0/mlflow/runs/create\n"
     ]
    },
    {
     "name": "stdout",
     "output_type": "stream",
     "text": [
      "Best ARMA Order: (1, 2), AIC: 596404.6286985173\n",
      "Train MAE: 3.052895214388896\n",
      "Test MAE: 5.22049574945898\n"
     ]
    },
    {
     "name": "stderr",
     "output_type": "stream",
     "text": [
      "2025/02/23 22:20:53 WARNING mlflow.models.model: Model logged without a signature and input example. Please set `input_example` parameter when logging the model to auto infer the model signature.\n"
     ]
    },
    {
     "name": "stdout",
     "output_type": "stream",
     "text": [
      "🏃 View run fortunate-deer-464 at: https://dagshub.com/vidyuthkrishna03/nyc-taxi-rides-prediction.mlflow/#/experiments/11/runs/9be14fd72fe44f3da4eee3bbb7818d52\n",
      "🧪 View experiment at: https://dagshub.com/vidyuthkrishna03/nyc-taxi-rides-prediction.mlflow/#/experiments/11\n",
      "Logged ARMA((1, 2)) to MLflow with Train MAE: 3.052895214388896, Test MAE: 5.22049574945898\n"
     ]
    }
   ],
   "source": [
    "from src.experiment_utils import set_mlflow_tracking\n",
    "from dotenv import load_dotenv\n",
    "import mlflow\n",
    "import mlflow.sklearn  # Needed for logging non-sklearn models too\n",
    "import os\n",
    "import numpy as np\n",
    "from statsmodels.tsa.arima.model import ARIMA\n",
    "from sklearn.metrics import mean_absolute_error\n",
    "\n",
    "# Load environment variables\n",
    "load_dotenv()\n",
    "\n",
    "# Set up MLflow tracking\n",
    "mlflow = set_mlflow_tracking()\n",
    "\n",
    "def train_arma(df):\n",
    "    # Selecting key lag features\n",
    "    selected_lags = ['rides_t-1', 'rides_t-24', 'rides_t-168', 'rides_t-672']\n",
    "    \n",
    "    # Train-test split\n",
    "    train_size = int(len(df) * 0.9)\n",
    "    train, test = df.iloc[:train_size], df.iloc[train_size:]\n",
    "    \n",
    "    # ARMA Model Selection\n",
    "    best_aic = np.inf\n",
    "    best_order = None\n",
    "    best_model = None\n",
    "    \n",
    "    for p in range(3):  # Try small values for AR\n",
    "        for q in range(3):  # Try small values for MA\n",
    "            try:\n",
    "                model = ARIMA(train['target'], order=(p, 0, q), exog=train[selected_lags])\n",
    "                fitted = model.fit()\n",
    "                if fitted.aic < best_aic:\n",
    "                    best_aic = fitted.aic\n",
    "                    best_order = (p, q)\n",
    "                    best_model = fitted\n",
    "            except:\n",
    "                continue\n",
    "    \n",
    "    print(f\"Best ARMA Order: {best_order}, AIC: {best_aic}\")\n",
    "    \n",
    "    # Forecasting\n",
    "    test_predictions = best_model.forecast(steps=len(test), exog=test[selected_lags])\n",
    "    test_mae = mean_absolute_error(test['target'], test_predictions)\n",
    "\n",
    "    # Train MAE Calculation (using in-sample fitted values)\n",
    "    train_predictions = best_model.fittedvalues\n",
    "    train_mae = mean_absolute_error(train['target'], train_predictions)\n",
    "\n",
    "    print(f\"Train MAE: {train_mae}\")\n",
    "    print(f\"Test MAE: {test_mae}\")\n",
    "\n",
    "    # Log model & metrics to MLflow\n",
    "    with mlflow.start_run():\n",
    "        mlflow.log_param(\"model_type\", \"ARMA\")\n",
    "        mlflow.log_param(\"best_order\", best_order)\n",
    "        mlflow.log_metric(\"train_mae\", train_mae)\n",
    "        mlflow.log_metric(\"test_mae\", test_mae)\n",
    "\n",
    "        # Log the model\n",
    "        mlflow.sklearn.log_model(best_model, \"ARMA_Model\")\n",
    "\n",
    "    print(f\"Logged ARMA({best_order}) to MLflow with Train MAE: {train_mae}, Test MAE: {test_mae}\")\n",
    "    \n",
    "    return best_model, train_mae, test_mae\n",
    "\n",
    "best_model, train_mae, test_mae = train_arma(df)\n"
   ]
  },
  {
   "cell_type": "code",
   "execution_count": null,
   "metadata": {},
   "outputs": [],
   "source": []
  }
 ],
 "metadata": {
  "kernelspec": {
   "display_name": "Python 3",
   "language": "python",
   "name": "python3"
  },
  "language_info": {
   "codemirror_mode": {
    "name": "ipython",
    "version": 3
   },
   "file_extension": ".py",
   "mimetype": "text/x-python",
   "name": "python",
   "nbconvert_exporter": "python",
   "pygments_lexer": "ipython3",
   "version": "3.12.4"
  }
 },
 "nbformat": 4,
 "nbformat_minor": 2
}
