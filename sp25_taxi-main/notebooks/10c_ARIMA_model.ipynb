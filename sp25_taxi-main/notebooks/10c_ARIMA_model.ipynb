{
 "cells": [
  {
   "cell_type": "code",
   "execution_count": 24,
   "metadata": {},
   "outputs": [
    {
     "name": "stdout",
     "output_type": "stream",
     "text": [
      "The autoreload extension is already loaded. To reload it, use:\n",
      "  %reload_ext autoreload\n"
     ]
    }
   ],
   "source": [
    "%load_ext autoreload\n",
    "%autoreload 2"
   ]
  },
  {
   "cell_type": "code",
   "execution_count": 25,
   "metadata": {},
   "outputs": [],
   "source": [
    "import sys\n",
    "import os\n",
    "\n",
    "# Add the parent directory to the Python path\n",
    "sys.path.append(os.path.abspath(os.path.join(os.getcwd(), \"..\")))"
   ]
  },
  {
   "cell_type": "code",
   "execution_count": 26,
   "metadata": {},
   "outputs": [],
   "source": [
    "import pandas as pd\n",
    "from src.config import TRANSFORMED_DATA_DIR\n",
    "\n",
    "df = pd.read_parquet(TRANSFORMED_DATA_DIR / \"tabular_data.parquet\")"
   ]
  },
  {
   "cell_type": "code",
   "execution_count": 27,
   "metadata": {},
   "outputs": [],
   "source": [
    "# Assuming pickup_hour is in datetime format, extract useful time features\n",
    "df['pickup_hour'] = pd.to_datetime(df['pickup_hour'])\n",
    "df['week_day'] = df['pickup_hour'].dt.weekday  # Capture weekly patterns\n",
    "df['hour_of_day'] = df['pickup_hour'].dt.hour  # Capture daily patterns"
   ]
  },
  {
   "cell_type": "code",
   "execution_count": 28,
   "metadata": {},
   "outputs": [],
   "source": [
    "selected_lags = ['rides_t-1', 'rides_t-2', 'rides_t-3', 'rides_t-24', 'rides_t-168', 'rides_t-672']\n",
    "features = selected_lags + ['week_day', 'hour_of_day']\n",
    "target = 'target'\n"
   ]
  },
  {
   "cell_type": "code",
   "execution_count": 29,
   "metadata": {},
   "outputs": [],
   "source": [
    "train_size = int(0.8 * len(df))\n",
    "train, test = df.iloc[:train_size], df.iloc[train_size:]"
   ]
  },
  {
   "cell_type": "code",
   "execution_count": 30,
   "metadata": {},
   "outputs": [
    {
     "name": "stderr",
     "output_type": "stream",
     "text": [
      "c:\\Users\\vidyu\\AppData\\Local\\Programs\\Python\\Python312\\Lib\\site-packages\\statsmodels\\base\\model.py:607: ConvergenceWarning: Maximum Likelihood optimization failed to converge. Check mle_retvals\n",
      "  warnings.warn(\"Maximum Likelihood optimization failed to \"\n"
     ]
    },
    {
     "name": "stdout",
     "output_type": "stream",
     "text": [
      "ARIMA(1, 0, 2) MAE: 4.000967156221908\n"
     ]
    }
   ],
   "source": [
    "from statsmodels.tsa.arima.model import ARIMA\n",
    "from sklearn.metrics import mean_absolute_error\n",
    "\n",
    "# Fit ARMA(1,2) without differencing (d=0)\n",
    "arma_order = (1, 0, 2)\n",
    "arma_model = ARIMA(train[target], order=arma_order, exog=train[features]).fit()\n",
    "arma_preds = arma_model.forecast(steps=len(test), exog=test[features])\n",
    "arma_mae = mean_absolute_error(test[target], arma_preds)\n",
    "\n",
    "print(f\"ARIMA{arma_order} MAE: {arma_mae}\")\n"
   ]
  },
  {
   "cell_type": "code",
   "execution_count": 19,
   "metadata": {},
   "outputs": [
    {
     "name": "stdout",
     "output_type": "stream",
     "text": [
      "\n",
      "Best Model: ARIMA, MAE: 3.0725831106091506\n"
     ]
    },
    {
     "data": {
      "image/png": "[encoded data removed]",
      "text/plain": [
       "<Figure size 1000x400 with 1 Axes>"
      ]
     },
     "metadata": {},
     "output_type": "display_data"
    }
   ],
   "source": [
    "import matplotlib.pyplot as plt \n",
    "\n",
    "best_model, best_mae, best_preds = 'ARIMA', arma_mae, arma_preds\n",
    "print(f\"\\nBest Model: {best_model}, MAE: {best_mae}\")\n",
    "\n",
    "# ===========================\n",
    "# Residual Analysis\n",
    "# ===========================\n",
    "residuals = test[target] - best_preds\n",
    "plt.figure(figsize=(10, 4))\n",
    "plt.plot(residuals)\n",
    "plt.axhline(0, linestyle='--', color='red')\n",
    "plt.title(f\"Residuals of {best_model} Model\")\n",
    "plt.show()"
   ]
  },
  {
   "cell_type": "code",
   "execution_count": 31,
   "metadata": {},
   "outputs": [
    {
     "name": "stdout",
     "output_type": "stream",
     "text": [
      "Train MAE: 3.1773172239614182\n"
     ]
    }
   ],
   "source": [
    "# Get in-sample predictions for training data\n",
    "train_preds = arma_model.fittedvalues  \n",
    "\n",
    "# Calculate train MAE\n",
    "train_mae = mean_absolute_error(train['target'], train_preds)\n",
    "\n",
    "print(f\"Train MAE: {train_mae}\")\n"
   ]
  },
  {
   "cell_type": "code",
   "execution_count": 32,
   "metadata": {},
   "outputs": [
    {
     "name": "stderr",
     "output_type": "stream",
     "text": [
      "INFO:src.experiment_utils:MLflow tracking URI and credentials set.\n",
      "c:\\Users\\vidyu\\AppData\\Local\\Programs\\Python\\Python312\\Lib\\site-packages\\statsmodels\\base\\model.py:607: ConvergenceWarning: Maximum Likelihood optimization failed to converge. Check mle_retvals\n",
      "  warnings.warn(\"Maximum Likelihood optimization failed to \"\n",
      "2025/02/23 20:52:38 WARNING mlflow.models.model: Model logged without a signature and input example. Please set `input_example` parameter when logging the model to auto infer the model signature.\n",
      "WARNING:urllib3.connectionpool:Retrying (Retry(total=4, connect=5, read=5, redirect=5, status=5)) after connection broken by 'SSLEOFError(8, 'EOF occurred in violation of protocol (_ssl.c:2406)')': /vidyuthkrishna03/nyc-taxi-rides-prediction.mlflow/api/2.0/mlflow-artifacts/artifacts/42f02064e308464a8da00f171134075c/10273e9adfe14e938e9cab09b7a3ad48/artifacts/ARIMA_Model/model.pkl\n"
     ]
    },
    {
     "name": "stdout",
     "output_type": "stream",
     "text": [
      "🏃 View run selective-auk-350 at: https://dagshub.com/vidyuthkrishna03/nyc-taxi-rides-prediction.mlflow/#/experiments/0/runs/10273e9adfe14e938e9cab09b7a3ad48\n",
      "🧪 View experiment at: https://dagshub.com/vidyuthkrishna03/nyc-taxi-rides-prediction.mlflow/#/experiments/0\n",
      "Logged ARIMA((1, 0, 2)) to MLflow with Train MAE: 3.1773172239614182, Test MAE: 4.000967156221908\n"
     ]
    }
   ],
   "source": [
    "from src.experiment_utils import set_mlflow_tracking, log_model_to_mlflow\n",
    "from dotenv import load_dotenv\n",
    "import mlflow\n",
    "import mlflow.sklearn  # Needed for logging non-sklearn models too\n",
    "import os\n",
    "\n",
    "load_dotenv()\n",
    "\n",
    "# Set MLflow tracking\n",
    "mlflow = set_mlflow_tracking()\n",
    "\n",
    "# Train ARIMA model\n",
    "arma_order = (1, 0, 2)\n",
    "arma_model = ARIMA(train[target], order=arma_order, exog=train[features]).fit()\n",
    "\n",
    "# Forecasting\n",
    "arma_preds = arma_model.forecast(steps=len(test), exog=test[features])\n",
    "test_mae = mean_absolute_error(test[target], arma_preds)\n",
    "\n",
    "# In-sample training error\n",
    "train_preds = arma_model.fittedvalues  \n",
    "train_mae = mean_absolute_error(train[target], train_preds)\n",
    "\n",
    "# Log model & metrics to MLflow\n",
    "with mlflow.start_run():\n",
    "    mlflow.log_param(\"model_type\", \"ARIMA\")\n",
    "    mlflow.log_param(\"order\", arma_order)\n",
    "    mlflow.log_metric(\"train_mae\", train_mae)\n",
    "    mlflow.log_metric(\"test_mae\", test_mae)\n",
    "\n",
    "    # Log the model\n",
    "    mlflow.sklearn.log_model(arma_model, \"ARIMA_Model\")\n",
    "\n",
    "print(f\"Logged ARIMA({arma_order}) to MLflow with Train MAE: {train_mae}, Test MAE: {test_mae}\")\n"
   ]
  }
 ],
 "metadata": {
  "kernelspec": {
   "display_name": "Python 3",
   "language": "python",
   "name": "python3"
  },
  "language_info": {
   "codemirror_mode": {
    "name": "ipython",
    "version": 3
   },
   "file_extension": ".py",
   "mimetype": "text/x-python",
   "name": "python",
   "nbconvert_exporter": "python",
   "pygments_lexer": "ipython3",
   "version": "3.12.4"
  }
 },
 "nbformat": 4,
 "nbformat_minor": 2
}
